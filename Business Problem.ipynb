{
 "cells": [
  {
   "cell_type": "markdown",
   "metadata": {},
   "source": [
    "### Capstone Project \n"
   ]
  },
  {
   "cell_type": "markdown",
   "metadata": {},
   "source": [
    "# The Battle of the Neighborhoods "
   ]
  },
  {
   "cell_type": "markdown",
   "metadata": {},
   "source": [
    "Introduction: \n",
    "Toronto is a vibrant, big-time city abuzz with activity. Some of the world's finest restaurants are found here, alongside happening bars and clubs and eclectic festivals. A rich, first world city known for its low crime rates and unique nightlife, Toronto stands out as a prime candidate as a place to open a new bar. However, a key piece of criteria when making a decision about where to open a new bar is getting the location right. Get it right and you could make a fortune, get it wrong and it could be a financial disaster. This project aims to help businesspeople to choose an area that is not saturated with bars and in a small way help them find a gap in the market. \n",
    "\n"
   ]
  },
  {
   "cell_type": "markdown",
   "metadata": {},
   "source": [
    "Business Problem: What are the best Neighborhoods in downtown Toronto for setting up a new bar? A question any budding entrepreneur worth his or her salt would be dying to know! Armed with data, this project uses Machine Learn and Data Science methods to provide answers to this business problem. \n",
    "Q. What are the best Neighborhoods in downtown Toronto for setting up a new bar?"
   ]
  }
 ],
 "metadata": {
  "kernelspec": {
   "display_name": "Python 3",
   "language": "python",
   "name": "python3"
  },
  "language_info": {
   "codemirror_mode": {
    "name": "ipython",
    "version": 3
   },
   "file_extension": ".py",
   "mimetype": "text/x-python",
   "name": "python",
   "nbconvert_exporter": "python",
   "pygments_lexer": "ipython3",
   "version": "3.6.7"
  }
 },
 "nbformat": 4,
 "nbformat_minor": 2
}
